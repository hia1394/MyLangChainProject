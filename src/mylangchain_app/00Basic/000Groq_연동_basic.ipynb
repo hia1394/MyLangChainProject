{
 "cells": [
  {
   "cell_type": "code",
   "execution_count": 2,
   "metadata": {},
   "outputs": [
    {
     "name": "stdout",
     "output_type": "stream",
     "text": [
      "Hello LangChain\n"
     ]
    }
   ],
   "source": [
    "print(\"Hello LangChain\")"
   ]
  },
  {
   "cell_type": "code",
   "execution_count": 7,
   "metadata": {},
   "outputs": [
    {
     "name": "stdout",
     "output_type": "stream",
     "text": [
      "gsk_zZ0hc\n"
     ]
    }
   ],
   "source": [
    "import os\n",
    "from dotenv import load_dotenv\n",
    "from langchain_core.prompts import ChatPromptTemplate\n",
    "from langchain_openai import ChatOpenAI \n",
    "\n",
    "load_dotenv()\n",
    "OPENAI_API_KEY = os.getenv(\"OPENAI_API_KEY\")\n",
    "print(OPENAI_API_KEY[:9])\n"
   ]
  },
  {
   "cell_type": "code",
   "execution_count": 9,
   "metadata": {},
   "outputs": [
    {
     "name": "stdout",
     "output_type": "stream",
     "text": [
      "<class 'langchain_core.prompts.chat.ChatPromptTemplate'>\n",
      "input_variables=['input'] input_types={} partial_variables={} messages=[SystemMessagePromptTemplate(prompt=PromptTemplate(input_variables=[], input_types={}, partial_variables={}, template='당신은 개발자입니다.'), additional_kwargs={}), HumanMessagePromptTemplate(prompt=PromptTemplate(input_variables=['input'], input_types={}, partial_variables={}, template='{input}'), additional_kwargs={})]\n"
     ]
    }
   ],
   "source": [
    "# prompt + llm + output \n",
    "\n",
    "# prompt\n",
    "prompt = ChatPromptTemplate.from_messages(\n",
    "    [ (\"system\", \"당신은 개발자입니다.\") , \n",
    "     (\"user\", \"{input}\") ]\n",
    ")\n",
    "print(type(prompt))\n",
    "print(prompt)"
   ]
  },
  {
   "cell_type": "code",
   "execution_count": 10,
   "metadata": {},
   "outputs": [
    {
     "name": "stdout",
     "output_type": "stream",
     "text": [
      "<class 'str'>\n",
      "System: 당신은 개발자입니다.\n",
      "Human: 파이썬은 무엇인가요? 자세하게 설명해주세요\n"
     ]
    }
   ],
   "source": [
    "prompt_text = prompt.format(input=\"파이썬은 무엇인가요? 자세하게 설명해주세요\")\n",
    "print(type(prompt_text))\n",
    "print(prompt_text)"
   ]
  },
  {
   "cell_type": "code",
   "execution_count": 11,
   "metadata": {},
   "outputs": [
    {
     "name": "stdout",
     "output_type": "stream",
     "text": [
      "<class 'langchain_openai.chat_models.base.ChatOpenAI'>\n",
      "client=<openai.resources.chat.completions.completions.Completions object at 0x000001A8AE527C80> async_client=<openai.resources.chat.completions.completions.AsyncCompletions object at 0x000001A8B25A77D0> root_client=<openai.OpenAI object at 0x000001A8B2410E60> root_async_client=<openai.AsyncOpenAI object at 0x000001A8B257A240> model_name='meta-llama/llama-4-scout-17b-16e-instruct' temperature=0.7 model_kwargs={} openai_api_key=SecretStr('**********') openai_api_base='https://api.groq.com/openai/v1'\n"
     ]
    }
   ],
   "source": [
    "#llm = ChatOpenAI(api_key=OPENAI_API_KEY, model_name=\"gpt-3.5-turbo-0125\")\n",
    "\n",
    "# Groq API를 사용하는 ChatOpenAI 인스턴스 생성\n",
    "llm = ChatOpenAI(\n",
    "    api_key=OPENAI_API_KEY,\n",
    "    base_url=\"https://api.groq.com/openai/v1\",  # Groq API 엔드포인트\n",
    "    model=\"meta-llama/llama-4-scout-17b-16e-instruct\",\n",
    "    temperature=0.7\n",
    ")\n",
    "print(type(llm))\n",
    "print(llm)"
   ]
  },
  {
   "cell_type": "code",
   "execution_count": 12,
   "metadata": {},
   "outputs": [
    {
     "name": "stdout",
     "output_type": "stream",
     "text": [
      "<class 'langchain_core.messages.ai.AIMessage'>\n",
      "응답: 파이썬! 프로그래밍 세계에서 매우 인기 있는 언어입니다. 저는 개발자로서 파이썬에 대해 자세히 설명해 드리겠습니다.\n",
      "\n",
      "**파이썬이란?**\n",
      "\n",
      "파이썬은 1991년 Guido van Rossum에 의해 개발된 고수준 프로그래밍 언어입니다. 파이썬은 코드 가독성과 간결함, 쉬운 문법으로 유명하며, 다양한 분야에서 사용됩니다. 웹 개발, 데이터 분석, 인공지능, 과학 컴퓨팅, 교육 등 많은 분야에서 활용됩니다.\n",
      "\n",
      "**파이썬의 특징**\n",
      "\n",
      "1. **쉬운 문법**: 파이썬은 매우 간단하고 직관적인 문법을 가지고 있습니다. 이는 초보자가 프로그래밍을 배우기 쉽게 만들어 줍니다.\n",
      "2. **고수준 언어**: 파이썬은 고수준 언어로서, 개발자가 컴퓨터의 내부 구조에 대해 자세히 알 필요 없이 프로그래밍할 수 있습니다.\n",
      "3. **객체 지향 언어**: 파이썬은 객체 지향 언어로서, 객체를 사용하여 프로그래밍을 합니다. 이는 코드의 재사용성과 모듈화를 가능하게 합니다.\n",
      "4. **동적 타이핑**: 파이썬은 동적 타이핑 언어로서, 변수의 타입을 선언할 필요가 없습니다. 이는 프로그래밍을 더 유연하게 만들어 줍니다.\n",
      "5. **대규모 라이브러리**: 파이썬은 방대한 라이브러리와 모듈을 보유하고 있습니다. 이는 개발자가 다양한 작업을 쉽게 할 수 있도록 도와줍니다.\n",
      "\n",
      "**파이썬의 활용 분야**\n",
      "\n",
      "1. **웹 개발**: 파이썬은 웹 개발을 위해 사용됩니다. Flask, Django와 같은 웹 프레임워크를 사용하여 웹 애플리케이션을 개발할 수 있습니다.\n",
      "2. **데이터 분석**: 파이썬은 데이터 분석을 위해 사용됩니다. NumPy, pandas, Matplotlib와 같은 라이브러리를 사용하여 데이터를 분석하고 시각화할 수 있습니다.\n",
      "3. **인공지능**: 파이썬은 인공지능을 위해 사용됩니다. TensorFlow, Keras와 같은 라이브러리를 사용하여 머신러닝 모델을 개발할 수 있습니다.\n",
      "4. **과학 컴퓨팅**: 파이썬은 과학 컴퓨팅을 위해 사용됩니다. SciPy, NumPy와 같은 라이브러리를 사용하여 과학적 계산을 수행할 수 있습니다.\n",
      "\n",
      "**파이썬의 장점**\n",
      "\n",
      "1. **쉬운 학습**: 파이썬은 쉬운 문법과 간단한 구조로 인해 학습하기 쉽습니다.\n",
      "2. **빠른 개발**: 파이썬은 간결한 문법과 다양한 라이브러리로 인해 개발 속도가 빠릅니다.\n",
      "3. **대규모 커뮤니티**: 파이썬은 대규모 커뮤니티를 보유하고 있습니다. 이는 개발자가 도움을 받고, 정보를 공유할 수 있는 좋은 환경을 제공합니다.\n",
      "\n",
      "**파이썬의 단점**\n",
      "\n",
      "1. **성능**: 파이썬은 다른 언어에 비해 성능이 떨어질 수 있습니다.\n",
      "2. **제한된 멀티쓰레딩**: 파이썬은 멀티쓰레딩을 지원하지만, 제한된 성능을 제공할 수 있습니다.\n",
      "\n",
      "결론적으로, 파이썬은 쉬운 문법, 고수준 언어, 객체 지향 언어, 동적 타이핑, 대규모 라이브러리 등으로 인해 매우 인기 있는 프로그래밍 언어입니다. 파이썬은 웹 개발, 데이터 분석, 인공지능, 과학 컴퓨팅 등 다양한 분야에서 사용됩니다. 파이썬의 장점으로는 쉬운 학습, 빠른 개발, 대규모 커뮤니티 등이 있으며, 단점으로는 성능, 제한된 멀티쓰레딩 등이 있습니다.\n"
     ]
    }
   ],
   "source": [
    "try:\n",
    "    response = llm.invoke(prompt_text)\n",
    "    print(type(response))\n",
    "    print(\"응답:\", response.content)\n",
    "except Exception as e:\n",
    "    print(f\"오류 발생: {e}\")"
   ]
  },
  {
   "cell_type": "markdown",
   "metadata": {},
   "source": [
    "# LCEL"
   ]
  },
  {
   "cell_type": "code",
   "execution_count": 13,
   "metadata": {},
   "outputs": [],
   "source": [
    "from langchain_core.output_parsers import StrOutputParser\n",
    "\n",
    "output_parser = StrOutputParser()"
   ]
  },
  {
   "cell_type": "code",
   "execution_count": 14,
   "metadata": {},
   "outputs": [
    {
     "name": "stdout",
     "output_type": "stream",
     "text": [
      "<class 'langchain_core.runnables.base.RunnableSequence'>\n",
      "first=ChatPromptTemplate(input_variables=['input'], input_types={}, partial_variables={}, messages=[SystemMessagePromptTemplate(prompt=PromptTemplate(input_variables=[], input_types={}, partial_variables={}, template='당신은 개발자입니다.'), additional_kwargs={}), HumanMessagePromptTemplate(prompt=PromptTemplate(input_variables=['input'], input_types={}, partial_variables={}, template='{input}'), additional_kwargs={})]) middle=[ChatOpenAI(client=<openai.resources.chat.completions.completions.Completions object at 0x000001A8AE527C80>, async_client=<openai.resources.chat.completions.completions.AsyncCompletions object at 0x000001A8B25A77D0>, root_client=<openai.OpenAI object at 0x000001A8B2410E60>, root_async_client=<openai.AsyncOpenAI object at 0x000001A8B257A240>, model_name='meta-llama/llama-4-scout-17b-16e-instruct', temperature=0.7, model_kwargs={}, openai_api_key=SecretStr('**********'), openai_api_base='https://api.groq.com/openai/v1')] last=StrOutputParser()\n"
     ]
    }
   ],
   "source": [
    "chain = prompt | llm | output_parser\n",
    "print(type(chain))\n",
    "print(chain)"
   ]
  },
  {
   "cell_type": "code",
   "execution_count": 15,
   "metadata": {},
   "outputs": [],
   "source": [
    "response = chain.invoke({\"input\":\"지구의 자전주기는 얼마인가요?\"})"
   ]
  },
  {
   "cell_type": "code",
   "execution_count": 16,
   "metadata": {},
   "outputs": [
    {
     "name": "stdout",
     "output_type": "stream",
     "text": [
      "<class 'str'>\n",
      "지구의 자전주기는 24시간입니다.\n"
     ]
    }
   ],
   "source": [
    "print(type(response))\n",
    "print(response)"
   ]
  }
 ],
 "metadata": {
  "kernelspec": {
   "display_name": "mylangchain-app-unC8AIy--py3.12",
   "language": "python",
   "name": "python3"
  },
  "language_info": {
   "codemirror_mode": {
    "name": "ipython",
    "version": 3
   },
   "file_extension": ".py",
   "mimetype": "text/x-python",
   "name": "python",
   "nbconvert_exporter": "python",
   "pygments_lexer": "ipython3",
   "version": "3.12.7"
  }
 },
 "nbformat": 4,
 "nbformat_minor": 2
}
