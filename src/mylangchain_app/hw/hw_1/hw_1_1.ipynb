{
 "cells": [
  {
   "cell_type": "code",
   "execution_count": null,
   "id": "9f367bf1",
   "metadata": {},
   "outputs": [
    {
     "name": "stdout",
     "output_type": "stream",
     "text": [
      "('### 사과, 딸기, 토마토를 이용한 추천 요리 및 레시피\\n'\n",
      " '\\n'\n",
      " '1. **과일 샐러드**\\n'\n",
      " '   - **재료**: 사과 1개, 딸기 10개, 토마토 1개, 요거트 또는 드레싱 \\n'\n",
      " '   - **레시피**: \\n'\n",
      " '     - 사과와 토마토를 깨끗이 씻고, 사과는 껍질을 벗긴 후 모두 한입 크기로 잘라줍니다.\\n'\n",
      " '     - 딸기는 씻은 후 꼭지를 제거하고 반으로 잘라줍니다.\\n'\n",
      " '     - 모든 재료를 큰 그릇에 담고, 요거트나 드레싱을 뿌려줍니다.\\n'\n",
      " '     - 맛있는 과일 샐러드가 완성됩니다!\\n'\n",
      " '\\n'\n",
      " '2. **토마토와 딸기 샌드위치**\\n'\n",
      " '   - **재료**: 사과 1/2개, 딸기 5개, 토마토 1/2개, 빵 2장, 마요네즈 또는 머스터드소스\\n'\n",
      " '   - **레시피**:\\n'\n",
      " '     - 빵을 구워서 준비합니다.\\n'\n",
      " '     - 사과, 딸기, 토마토를 얇게 썰어줍니다.\\n'\n",
      " '     - 빵에 마요네즈나 머스터드소스를 바르고, 잘라놓은 재료를 층층이 쌓아줍니다.\\n'\n",
      " '     - 다른 빵을 덮어주면 간단한 샌드위치가 됩니다.\\n'\n",
      " '\\n'\n",
      " '3. **과일 스무디**\\n'\n",
      " '   - **재료**: 사과 1/2개, 딸기 5개, 토마토 1/4개, 요거트 1컵, 꿀 1티스푼, 얼음 \\n'\n",
      " '   - **레시피**:\\n'\n",
      " '     - 모든 재료를 블렌더에 넣고, 요거트와 꿀을 추가해줍니다.\\n'\n",
      " '     - 얼음을 추가하여 시원하게 갈아줍니다.\\n'\n",
      " '     - 맛있는 과일 스무디가 완성됩니다!\\n'\n",
      " '\\n'\n",
      " '### 간단한 팁\\n'\n",
      " '- 각 재료의 양은 개인의 취향에 따라 조절할 수 있습니다.\\n'\n",
      " '- 드레싱이나 소스는 기호에 따라 다양한 것을 사용할 수 있습니다.\\n'\n",
      " '\\n'\n",
      " '이 레시피들을 통해 사과, 딸기, 토마토를 활용한 맛있는 요리를 즐겨보세요!')\n"
     ]
    }
   ],
   "source": [
    "from langchain_core.prompts import PromptTemplate\n",
    "from langchain_openai import ChatOpenAI\n",
    "from langchain_core.output_parsers import StrOutputParser\n",
    "from pprint import pprint\n",
    "from dotenv import load_dotenv\n",
    "import os\n",
    "\n",
    "load_dotenv(dotenv_path='.env')\n",
    "\n",
    "OPENAI_API_KEY = os.getenv(\"OPENAI_API_KEY\")\n",
    "\n",
    "food_l=input(\"재료를 입력해주세요\")\n",
    "\n",
    "template_text = \"{food} 을 재료로 하는 추천요리와 간단한 레시피를 알려줘\"\n",
    "\n",
    "\n",
    "prompt_template = PromptTemplate.from_template(template_text)\n",
    "\n",
    "llm = ChatOpenAI(\n",
    "    api_key=OPENAI_API_KEY,\n",
    "    base_url=\"https://api.groq.com/openai/v1\",  # Groq API 엔드포인트\n",
    "    model=\"meta-llama/llama-4-scout-17b-16e-instruct\",  # Spring AI와 동일한 모델\n",
    "    temperature=0.7\n",
    ")\n",
    "\n",
    "chain = prompt_template | llm | StrOutputParser()\n",
    "\n",
    "response = chain.invoke({\"food\":food_l})\n",
    "pprint(response)"
   ]
  }
 ],
 "metadata": {
  "kernelspec": {
   "display_name": "mylangchain-app-unC8AIy--py3.12",
   "language": "python",
   "name": "python3"
  },
  "language_info": {
   "codemirror_mode": {
    "name": "ipython",
    "version": 3
   },
   "file_extension": ".py",
   "mimetype": "text/x-python",
   "name": "python",
   "nbconvert_exporter": "python",
   "pygments_lexer": "ipython3",
   "version": "3.12.7"
  }
 },
 "nbformat": 4,
 "nbformat_minor": 5
}
