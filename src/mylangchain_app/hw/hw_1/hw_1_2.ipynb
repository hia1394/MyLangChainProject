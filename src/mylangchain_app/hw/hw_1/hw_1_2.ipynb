{
 "cells": [
  {
   "cell_type": "code",
   "execution_count": null,
   "id": "1cc4cf2b",
   "metadata": {},
   "outputs": [
    {
     "name": "stdout",
     "output_type": "stream",
     "text": [
      "\n",
      "📍 추천: \n",
      "콜로세움\n",
      "\n",
      "📝 상세:\n",
      "콜로세움은 이탈리아 로마에 위치한 세계에서 가장 유명한 고대 건축물 중 하나입니다. 콜로세움은 로마 제국의 황제 베스파시아ンが 기원후 72년에 건설을 시작하여 80년에 완공한 대형 원형 경기장입니다. 콜로세움은 로마 제국의 권력과 번영을 상징하는 건축물로, 검투사 경기, 동물 사냥, 공공 행사 등 다양한 행사에 사용되었습니다.\n",
      "\n",
      "### 콜로세움의 특징\n",
      "\n",
      "*   **규모**: 콜로세움은 길이 189m, 너비 156m, 높이 48m의 거대한 규모를 자랑합니다.\n",
      "*   **구조**: 콜로세움은 4층으로 이루어져 있으며, 각 층은 아치형의 기둥과 아케이드로 구성되어 있습니다.\n",
      "*   **재료**: 콜로세움은 석회석, 화강암, 벽돌 등 다양한 재료로 지어졌습니다.\n",
      "\n",
      "### 방문 팁\n",
      "\n",
      "*   **예매**: 콜로세움은 매우 인기 있는 관광지이므로, 방문 전에 미리 예매하는 것이 좋습니다. 온라인으로 티켓을 구매하거나 현지 여행사를 통해 예매할 수 있습니다.\n",
      "*   **시간**: 콜ло세움은 오전 8시 30분부터 오후 7시 15분까지 개방됩니다. 방문 시간은 계절에 따라 다를 수 있으므로, 사전에 확인하는 것이 좋습니다.\n",
      "*   **가이드**: 콜로세움의 역사와 특징을 더 깊이 이해하고 싶다면, 가이드 투어를 이용하는 것이 좋습니다. 가이드는 콜로세움의 역사, 건축, 문화 등에 대해 자세히 설명해 줄 것입니다.\n",
      "*   **안전**: 콜로세움은 매우 오래된 건축물이므로, 방문 시 안전에 주의해야 합니다. 특히, 계단과 통로가 좁고 가파른 곳이 많으므로, 조심해서 이동해야 합니다.\n",
      "\n",
      "콜로세움은 로마의 역사와 문화를 경험할 수 있는 최고의 장소 중 하나입니다. 방문 전에 충분한 정보를 수집하고, 안전에 주의하여 즐거운 여행을 하시길 바랍니다.\n"
     ]
    }
   ],
   "source": [
    "from langchain_core.prompts import PromptTemplate\n",
    "from langchain_openai import ChatOpenAI\n",
    "from langchain_core.output_parsers import StrOutputParser\n",
    "from langchain_core.prompts import ChatPromptTemplate\n",
    "from langchain_core.runnables import RunnablePassthrough\n",
    "from dotenv import load_dotenv\n",
    "import os\n",
    "\n",
    "load_dotenv(dotenv_path='.env')\n",
    "\n",
    "OPENAI_API_KEY = os.getenv(\"OPENAI_API_KEY\")\n",
    "\n",
    "llm = ChatOpenAI(\n",
    "    api_key=OPENAI_API_KEY,\n",
    "    base_url=\"https://api.groq.com/openai/v1\",\n",
    "    model=\"meta-llama/llama-4-scout-17b-16e-instruct\",\n",
    "    temperature=0.7\n",
    ")\n",
    "\n",
    "parser = StrOutputParser()\n",
    "\n",
    "prompt1 = ChatPromptTemplate.from_messages([\n",
    "    (\"system\", \"당신은 여행 가이드를 도와주는 AI입니다.\"),\n",
    "    (\"user\", \"{location}에 가면 꼭 가야 할 대표적인 관광 명소 하나를 추천해줘. 명소 이름만 말해줘.\")\n",
    "])\n",
    "\n",
    "prompt2 = ChatPromptTemplate.from_messages([\n",
    "    (\"system\", \"당신은 관광 명소 전문가입니다.\"),\n",
    "    (\"user\", \"{attraction}에 대해 역사, 특징, 방문 팁을 포함한 상세 정보를 알려줘.\")\n",
    "])\n",
    "\n",
    "chain1 = prompt1 | llm | parser\n",
    "chain2 = prompt2 | llm | parser\n",
    "\n",
    "def full_chain(user_input):\n",
    "    attraction = chain1.invoke({\"location\": user_input})\n",
    "    \n",
    "    details = chain2.invoke({\"attraction\": attraction})\n",
    "    \n",
    "    return {\"recommendation\": attraction, \"details\": details}\n",
    "\n",
    "\n",
    "\n",
    "user_input = input(\"여행지를 입력하세요: \")\n",
    "\n",
    "\n",
    "result = full_chain({\"location\": user_input})\n",
    "\n",
    "print(\"\\n📍 추천: \")\n",
    "print(result[\"recommendation\"])\n",
    "\n",
    "print(\"\\n📝 상세:\")\n",
    "print(result[\"details\"])"
   ]
  }
 ],
 "metadata": {
  "kernelspec": {
   "display_name": "mylangchain-app-unC8AIy--py3.12",
   "language": "python",
   "name": "python3"
  },
  "language_info": {
   "codemirror_mode": {
    "name": "ipython",
    "version": 3
   },
   "file_extension": ".py",
   "mimetype": "text/x-python",
   "name": "python",
   "nbconvert_exporter": "python",
   "pygments_lexer": "ipython3",
   "version": "3.12.7"
  }
 },
 "nbformat": 4,
 "nbformat_minor": 5
}
