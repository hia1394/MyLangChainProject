{
 "cells": [
  {
   "cell_type": "code",
   "execution_count": 28,
   "id": "d9832982",
   "metadata": {},
   "outputs": [
    {
     "name": "stdout",
     "output_type": "stream",
     "text": [
      "gsk_z\n"
     ]
    }
   ],
   "source": [
    "from dotenv import load_dotenv\n",
    "import os\n",
    "# .env 파일을 불러와서 환경 변수로 설정\n",
    "load_dotenv(dotenv_path='../.env')\n",
    "\n",
    "OPENAI_API_KEY = os.getenv(\"OPENAI_API_KEY\")\n",
    "print(OPENAI_API_KEY[:5])"
   ]
  },
  {
   "cell_type": "code",
   "execution_count": 37,
   "id": "6b0b6963",
   "metadata": {},
   "outputs": [
    {
     "name": "stdout",
     "output_type": "stream",
     "text": [
      "gsk_z\n",
      "이름: 김민수\n",
      "나이: 22\n",
      "전공: 컴퓨터공학\n",
      "취미: 게임하기, 영화보기, 코딩\n",
      "미래 목표: 훌륭한 개발자가 되는 것\n"
     ]
    }
   ],
   "source": [
    "from langchain_openai import ChatOpenAI\n",
    "from langchain_core.prompts import ChatPromptTemplate\n",
    "from langchain.output_parsers import PydanticOutputParser\n",
    "from pprint import pprint\n",
    "from pydantic import BaseModel, Field\n",
    "from typing import List\n",
    "from dotenv import load_dotenv\n",
    "import os\n",
    "# .env 파일을 불러와서 환경 변수로 설정\n",
    "load_dotenv(dotenv_path='../.env')\n",
    "\n",
    "OPENAI_API_KEY = os.getenv(\"OPENAI_API_KEY\")\n",
    "print(OPENAI_API_KEY[:5])\n",
    "\n",
    "class selfintroduce(BaseModel):\n",
    "    name: str = Field(description=\"이름\")\n",
    "    age: int = Field(description=\"나이\")\n",
    "    major: str = Field(description=\"전공\")\n",
    "    hobbies: List[str] = Field(description=\"취미\")\n",
    "    goal: str = Field(description=\"미래 목표\")\n",
    "\n",
    "\n",
    "\n",
    "parser = PydanticOutputParser(pydantic_object=selfintroduce)\n",
    "\n",
    "\n",
    "template = \"\"\"\n",
    "학생의 자유 형식 자기소개를 입력받아 이름, 나이, 전공, 취미,미래 목표를 selfintroduce와 같이 구조화된 형태로 추출하세요.\n",
    "자기소개: {query}\n",
    "\n",
    "{format_instructions}\n",
    "\"\"\"\n",
    "\n",
    "prompt = ChatPromptTemplate.from_template(template)\n",
    "\n",
    "prompt = prompt.partial(\n",
    "    format_instructions=parser.get_format_instructions()\n",
    ")\n",
    "model = ChatOpenAI(\n",
    "    api_key=OPENAI_API_KEY,\n",
    "    base_url=\"https://api.groq.com/openai/v1\",\n",
    "    model=\"meta-llama/llama-4-scout-17b-16e-instruct\",\n",
    "    temperature=0.0,\n",
    "    model_kwargs={\n",
    "        \"response_format\": { \"type\": \"json_object\" }\n",
    "    }\n",
    ")\n",
    "\n",
    "\n",
    "query = \"\"\"\n",
    "안녕하세요! 저는 김민수이고 22살입니다. \n",
    "컴퓨터공학을 전공하고 있어요. \n",
    "취미로는 게임하기, 영화보기, 코딩을 좋아합니다.\n",
    " 앞으로 훌륭한 개발자가 되는 것이 목표입니다.\n",
    "\"\"\"\n",
    "chain = prompt | model | parser\n",
    "output = chain.invoke({\"query\": query})\n",
    "\n",
    "print(f\"이름: {output.name}\")\n",
    "print(f\"나이: {output.age}\")\n",
    "print(f\"전공: {output.major}\")\n",
    "print(f\"취미: {', '.join(output.hobbies)}\")\n",
    "print(f\"미래 목표: {output.goal}\")"
   ]
  }
 ],
 "metadata": {
  "kernelspec": {
   "display_name": "mylangchain-app-unC8AIy--py3.12",
   "language": "python",
   "name": "python3"
  },
  "language_info": {
   "codemirror_mode": {
    "name": "ipython",
    "version": 3
   },
   "file_extension": ".py",
   "mimetype": "text/x-python",
   "name": "python",
   "nbconvert_exporter": "python",
   "pygments_lexer": "ipython3",
   "version": "3.12.7"
  }
 },
 "nbformat": 4,
 "nbformat_minor": 5
}
