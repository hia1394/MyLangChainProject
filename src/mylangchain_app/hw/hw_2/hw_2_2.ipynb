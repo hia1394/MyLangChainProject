{
 "cells": [
  {
   "cell_type": "code",
   "execution_count": 18,
   "id": "bf28d551",
   "metadata": {},
   "outputs": [
    {
     "name": "stdout",
     "output_type": "stream",
     "text": [
      "gsk_z\n"
     ]
    }
   ],
   "source": [
    "from dotenv import load_dotenv\n",
    "import os\n",
    "# .env 파일을 불러와서 환경 변수로 설정\n",
    "load_dotenv(dotenv_path='../.env')\n",
    "\n",
    "OPENAI_API_KEY = os.getenv(\"OPENAI_API_KEY\")\n",
    "print(OPENAI_API_KEY[:5])"
   ]
  },
  {
   "cell_type": "code",
   "execution_count": null,
   "id": "6e77ee74",
   "metadata": {},
   "outputs": [
    {
     "name": "stdout",
     "output_type": "stream",
     "text": [
      "\n",
      "1. 텍스트: 이 영화 정말 좋아요! 완전 만족스러워요.\n",
      "   감정: 긍정 \n",
      "\n",
      "2. 텍스트: 영화가 전개가 너무 느리고 설명이 부족했습니다.\n",
      "   감정: 부정 \n",
      "\n",
      "3. 텍스트: 이 영화 그런대로 괜찮습니다.\n",
      "   감정: 보통 \n",
      "\n",
      "4. 텍스트: 전개는 빠르지만 개연성이 아쉽습니다.\n",
      "   감정: 부정 \n",
      "\n",
      "5. 텍스트: 최고의 작품이었습니다.\n",
      "   감정: 긍정 \n",
      "\n",
      "6. 텍스트: 1000년에 한 번만 나와야하는 영화\n",
      "   감정: 긍정 \n"
     ]
    }
   ],
   "source": [
    "from langchain_openai import ChatOpenAI\n",
    "from langchain_core.prompts import ChatPromptTemplate\n",
    "from langchain.output_parsers import EnumOutputParser, OutputFixingParser\n",
    "from langchain.schema import OutputParserException\n",
    "from enum import Enum\n",
    "from pprint import pprint\n",
    "\n",
    "class Sentiment(str, Enum):\n",
    "    POSITIVE = \"긍정\"\n",
    "    NEGATIVE = \"부정\"\n",
    "    NEUTRAL = \"보통\"\n",
    "\n",
    "parser = EnumOutputParser(enum=Sentiment)\n",
    "format_instructions = parser.get_format_instructions()\n",
    "\n",
    "template = \"\"\"\n",
    "당신은 텍스트 감정 분석 전문가입니다.\n",
    "다음 텍스트의 감정을 분석하고, 반드시 아래 세 가지 중 하나의 단어로만 답변하세요.\n",
    "\n",
    "텍스트: \"{text}\"\n",
    "\n",
    "{format_instructions}\n",
    "\n",
    "중요 규칙:\n",
    "1. 반드시 \"긍정\", \"부정\", \"보통\" 중 하나의 단어만 출력하세요\n",
    "2. 다른 설명이나 부가 설명을 추가하지 마세요\n",
    "3. 이모지나 특수문자도 포함하지 마세요\n",
    "4. 오직 하나의 단어만 출력하세요\n",
    "\n",
    "답변:\"\"\"\n",
    "\n",
    "prompt = ChatPromptTemplate.from_template(template)\n",
    "prompt = prompt.partial(format_instructions=format_instructions)\n",
    "\n",
    "model = ChatOpenAI(\n",
    "    base_url=\"https://api.groq.com/openai/v1\",\n",
    "    model=\"meta-llama/llama-4-scout-17b-16e-instruct\",\n",
    "    temperature=0 \n",
    ")\n",
    "\n",
    "fixing_parser = OutputFixingParser.from_llm(parser=parser, llm=model)\n",
    "\n",
    "\n",
    "\n",
    "texts = [\n",
    "    \"이 영화 정말 좋아요! 완전 만족스러워요.\",\n",
    "    \"영화가 전개가 너무 느리고 설명이 부족했습니다.\",\n",
    "    \"이 영화 그런대로 괜찮습니다.\",\n",
    "    \"전개는 빠르지만 개연성이 아쉽습니다.\",\n",
    "    \"최고의 작품이었습니다.\",\n",
    "    \"이런 영화가 또 있을지 모르겠네요\"\n",
    "]\n",
    "\n",
    "\n",
    "def safe_sentiment_analysis(text, use_fixing_parser=True):\n",
    "    try:\n",
    "        chain = prompt | model | (fixing_parser if use_fixing_parser else parser)\n",
    "        result = chain.invoke({\"text\": text})\n",
    "        return result, None\n",
    "        \n",
    "    except OutputParserException as e:\n",
    "        return None, f\"파싱 오류: {str(e)[:100]}...\"\n",
    "    except Exception as e:\n",
    "        return None, f\"일반 오류: {str(e)[:100]}...\"\n",
    "\n",
    "\n",
    "def run_sentiment_analysis():\n",
    "    \n",
    "    for i, text in enumerate(texts, 1):\n",
    "        print(f\"\\n{i}. 텍스트: {text}\")\n",
    "        \n",
    "        result, error = safe_sentiment_analysis(text, use_fixing_parser=True)\n",
    "        \n",
    "        if result:\n",
    "            print(f\"   감정: {result.value} \")\n",
    "        else:\n",
    "            print(f\"   오류: {error} \")\n",
    "            \n",
    "            print(\"   기본 파서로 재시도...\")\n",
    "            result2, error2 = safe_sentiment_analysis(text, use_fixing_parser=False)\n",
    "            \n",
    "            if result2:\n",
    "                print(f\"   감정: {result2.value} (기본 파서 성공)\")\n",
    "            else:\n",
    "                print(f\"   재시도 실패: {error2} \")\n",
    "    \n",
    "\n",
    "run_sentiment_analysis()\n"
   ]
  },
  {
   "cell_type": "markdown",
   "id": "9c8cf4a3",
   "metadata": {},
   "source": []
  }
 ],
 "metadata": {
  "kernelspec": {
   "display_name": "mylangchain-app-unC8AIy--py3.12",
   "language": "python",
   "name": "python3"
  },
  "language_info": {
   "codemirror_mode": {
    "name": "ipython",
    "version": 3
   },
   "file_extension": ".py",
   "mimetype": "text/x-python",
   "name": "python",
   "nbconvert_exporter": "python",
   "pygments_lexer": "ipython3",
   "version": "3.12.7"
  }
 },
 "nbformat": 4,
 "nbformat_minor": 5
}
