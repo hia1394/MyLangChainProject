{
 "cells": [
  {
   "cell_type": "code",
   "execution_count": 2,
   "id": "687e8f34",
   "metadata": {},
   "outputs": [
    {
     "name": "stdout",
     "output_type": "stream",
     "text": [
      "gs\n"
     ]
    }
   ],
   "source": [
    "from dotenv import load_dotenv\n",
    "import os\n",
    "# .env 파일을 불러와서 환경 변수로 설정\n",
    "load_dotenv(dotenv_path='../.env')\n",
    "\n",
    "OPENAI_API_KEY = os.getenv(\"OPENAI_API_KEY\")\n",
    "print(OPENAI_API_KEY[:2])"
   ]
  },
  {
   "cell_type": "code",
   "execution_count": null,
   "id": "a46ffade",
   "metadata": {},
   "outputs": [
    {
     "name": "stdout",
     "output_type": "stream",
     "text": [
      "{'destination': '부산', 'duration': '2박 3일', 'budget': '30만원', 'rating': '4', 'activities': '해운대 바다구경, 자갈치시장 회 먹기, 감천문화마을 구경'}\n"
     ]
    }
   ],
   "source": [
    "from langchain_openai import ChatOpenAI\n",
    "from langchain_core.prompts import ChatPromptTemplate\n",
    "from langchain.output_parsers import StructuredOutputParser, ResponseSchema\n",
    "from pprint import pprint\n",
    "\n",
    "response_schemas = [\n",
    "    ResponseSchema(name=\"destination\", description=\"여행지\"),\n",
    "    ResponseSchema(name=\"duration\", description=\"기간\"),\n",
    "    ResponseSchema(name=\"budget\", description=\"예산\"),\n",
    "    ResponseSchema(name=\"rating\", description=\"추천도 (1-5점)\"),\n",
    "    ResponseSchema(name=\"activities\", description=\"주요 활동 리스트\")\n",
    "]\n",
    "\n",
    "parser = StructuredOutputParser.from_response_schemas(response_schemas)\n",
    "format_instructions = parser.get_format_instructions()\n",
    "\n",
    "\n",
    "template = \"\"\"\n",
    "여행 후기나 계획 텍스트를 입력받아 여행지, 기간, 예산, 추천도(1-5점), 주요 활동을 구조화된 형태로 추출하세요\n",
    "주요 활동은 리스트형태로 출력\n",
    " {plan}\n",
    "\n",
    "{format_instructions}\n",
    "\"\"\"\n",
    "\n",
    "prompt = ChatPromptTemplate.from_template(template)\n",
    "prompt = prompt.partial(format_instructions=format_instructions)\n",
    "\n",
    "\n",
    "model = ChatOpenAI(\n",
    "    #api_key=OPENAI_API_KEY,\n",
    "    base_url=\"https://api.groq.com/openai/v1\",  # Groq API 엔드포인트\n",
    "    model=\"meta-llama/llama-4-scout-17b-16e-instruct\",  # Spring AI와 동일한 모델\n",
    "    temperature=0.0\n",
    ")\n",
    "\n",
    "\n",
    "plan = \"\"\"\n",
    "  지난 주에 부산으로 2박 3일 여행을 다녀왔어요.\n",
    "   총 30만원 정도 썼는데 해운대에서 바다구경하고, 자갈치시장에서 회 먹고, 감천문화마을도 구경했어요.\n",
    "   정말 만족스러운 여행이었습니다. \n",
    "   5점 만점에 4점 정도 줄 수 있을 것 같아요.\"\"\"\n",
    "\n",
    "\n",
    "\n",
    "chain = prompt | model | parser\n",
    "\n",
    "output = chain.invoke({\"plan\": plan})\n",
    "\n",
    "print(output)"
   ]
  }
 ],
 "metadata": {
  "kernelspec": {
   "display_name": "mylangchain-app-unC8AIy--py3.12",
   "language": "python",
   "name": "python3"
  },
  "language_info": {
   "codemirror_mode": {
    "name": "ipython",
    "version": 3
   },
   "file_extension": ".py",
   "mimetype": "text/x-python",
   "name": "python",
   "nbconvert_exporter": "python",
   "pygments_lexer": "ipython3",
   "version": "3.12.7"
  }
 },
 "nbformat": 4,
 "nbformat_minor": 5
}
