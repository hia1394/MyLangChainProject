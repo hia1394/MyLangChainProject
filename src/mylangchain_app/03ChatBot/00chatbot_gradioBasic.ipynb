{
 "cells": [
  {
   "cell_type": "code",
   "execution_count": null,
   "metadata": {},
   "outputs": [],
   "source": [
    "#poetry add gradio"
   ]
  },
  {
   "cell_type": "markdown",
   "metadata": {},
   "source": [
    "#### Basic concepts and terminology"
   ]
  },
  {
   "cell_type": "code",
   "execution_count": 2,
   "metadata": {},
   "outputs": [
    {
     "name": "stderr",
     "output_type": "stream",
     "text": [
      "c:\\Users\\hia\\AppData\\Local\\pypoetry\\Cache\\virtualenvs\\mylangchain-app-unC8AIy--py3.12\\Lib\\site-packages\\tqdm\\auto.py:21: TqdmWarning: IProgress not found. Please update jupyter and ipywidgets. See https://ipywidgets.readthedocs.io/en/stable/user_install.html\n",
      "  from .autonotebook import tqdm as notebook_tqdm\n"
     ]
    },
    {
     "name": "stdout",
     "output_type": "stream",
     "text": [
      "5.46.0\n"
     ]
    }
   ],
   "source": [
    "import gradio as gr\n",
    "print(gr.__version__)"
   ]
  },
  {
   "cell_type": "markdown",
   "metadata": {},
   "source": [
    "##### 1. “Hello World” example:"
   ]
  },
  {
   "cell_type": "code",
   "execution_count": 3,
   "metadata": {},
   "outputs": [],
   "source": [
    "def greet(name):\n",
    "   return f\"Hello, {name}!\"\n",
    "\n",
    "def main1():\n",
    "    demo = gr.Interface(\n",
    "        fn=greet,\n",
    "        inputs=['text'],\n",
    "        outputs=\"text\",\n",
    "    )\n",
    "    demo.launch()   \n",
    "    demo.close() "
   ]
  },
  {
   "cell_type": "markdown",
   "metadata": {},
   "source": [
    "##### 2. Input and output components\n",
    "* 파라미터 값이 label이 됩니다. (각 컴포넌트의 좌측 상단)\n",
    "* 여러개의 output을 내보내고 싶다면 ,로 구분해서 return 합니다.\n",
    "* 어떤 방식으로 랜더링 할지는 outputs에 정해주면 됩니다.\n"
   ]
  },
  {
   "cell_type": "code",
   "execution_count": 6,
   "metadata": {},
   "outputs": [],
   "source": [
    "import gradio as gr\n",
    "\n",
    "def process_inputs(text, image, audio, number, option):\n",
    "   # Process inputs and return results\n",
    "   return f\"Processed: {text}, {number}, {option}\"\n",
    "\n",
    "def main2():\n",
    "    with gr.Blocks() as demo:\n",
    "        gr.Interface(\n",
    "            fn=process_inputs,\n",
    "            inputs=[\n",
    "                gr.Textbox(label=\"Enter Text\"),\n",
    "                gr.Image(label=\"Upload Image\"),\n",
    "                gr.Audio(label=\"Upload Audio\"),  # Uncomment this line to add audio input\n",
    "                gr.Slider(0, 100, label=\"Choose a number\"),\n",
    "                gr.Dropdown([\"Streamlit\", \"Taipy\", \"Gradio\"], label=\"Select a UI library\"),\n",
    "            ],\n",
    "            outputs=\"text\",\n",
    "        )\n",
    "    \n",
    "        demo.launch()"
   ]
  },
  {
   "cell_type": "markdown",
   "metadata": {},
   "source": [
    "##### 3. Row 와 Column"
   ]
  },
  {
   "cell_type": "code",
   "execution_count": 11,
   "metadata": {},
   "outputs": [],
   "source": [
    "import gradio as gr\n",
    "\n",
    "def main3():\n",
    "    with gr.Blocks() as demo:\n",
    "        with gr.Row():\n",
    "            text1 = gr.Textbox(label=\"t1\")\n",
    "            slider2 = gr.Textbox(label=\"s2\")\n",
    "            drop3 = gr.Dropdown([\"a\", \"b\", \"c\"], label=\"d3\")\n",
    "        with gr.Row():\n",
    "            with gr.Column(scale=1, min_width=300):\n",
    "                text1 = gr.Textbox(label=\"prompt 1\")\n",
    "                text2 = gr.Textbox(label=\"prompt 2\")\n",
    "                inbtw = gr.Button(\"Between\")\n",
    "                text4 = gr.Textbox(label=\"prompt 1\")\n",
    "                text5 = gr.Textbox(label=\"prompt 2\")\n",
    "            with gr.Column(scale=2, min_width=300):\n",
    "                img1 = gr.Image(value=\"https://gradio-rows-and-columns.hf.space/gradio_api/file=/tmp/gradio/ebc973f2524706aef925e5ab256573154e0120573be1f0bae8b94b255fdddeec/cheetah.jpg\")\n",
    "                btn = gr.Button(\"Go\")\n",
    "\n",
    "    demo.launch()"
   ]
  },
  {
   "cell_type": "markdown",
   "metadata": {},
   "source": [
    "##### 4. Tabs 와 Accordions"
   ]
  },
  {
   "cell_type": "code",
   "execution_count": 13,
   "metadata": {},
   "outputs": [],
   "source": [
    "import numpy as np\n",
    "import gradio as gr\n",
    "\n",
    "def flip_text(x):\n",
    "    return x[::-1]\n",
    "\n",
    "def flip_image(x):\n",
    "    return np.fliplr(x)\n",
    "\n",
    "def main():\n",
    "    with gr.Blocks() as demo:\n",
    "        gr.Markdown(\"Flip text or image files using this demo.\")\n",
    "        with gr.Tab(\"Flip Text\"):\n",
    "            text_input = gr.Textbox()\n",
    "            text_output = gr.Textbox()\n",
    "            text_button = gr.Button(\"Flip\")\n",
    "        with gr.Tab(\"Flip Image\"):\n",
    "            with gr.Row():\n",
    "                image_input = gr.Image()\n",
    "                image_output = gr.Image()\n",
    "            image_button = gr.Button(\"Flip\")\n",
    "\n",
    "        with gr.Accordion(\"Open for More!\", open=False):\n",
    "            gr.Markdown(\"Look at me...\")\n",
    "            temp_slider = gr.Slider(\n",
    "                0, 1,\n",
    "                value=0.1,\n",
    "                step=0.1,\n",
    "                interactive=True,\n",
    "                label=\"Slide me\",\n",
    "            )\n",
    "\n",
    "        text_button.click(flip_text, inputs=text_input, outputs=text_output)\n",
    "        image_button.click(flip_image, inputs=image_input, outputs=image_output)\n",
    "\n",
    "    demo.launch()"
   ]
  },
  {
   "cell_type": "code",
   "execution_count": 14,
   "metadata": {},
   "outputs": [
    {
     "name": "stdout",
     "output_type": "stream",
     "text": [
      "* Running on local URL:  http://127.0.0.1:7861\n",
      "* To create a public link, set `share=True` in `launch()`.\n"
     ]
    },
    {
     "data": {
      "text/html": [
       "<div><iframe src=\"http://127.0.0.1:7861/\" width=\"100%\" height=\"500\" allow=\"autoplay; camera; microphone; clipboard-read; clipboard-write;\" frameborder=\"0\" allowfullscreen></iframe></div>"
      ],
      "text/plain": [
       "<IPython.core.display.HTML object>"
      ]
     },
     "metadata": {},
     "output_type": "display_data"
    },
    {
     "name": "stderr",
     "output_type": "stream",
     "text": [
      "Traceback (most recent call last):\n",
      "  File \"c:\\Users\\hia\\AppData\\Local\\pypoetry\\Cache\\virtualenvs\\mylangchain-app-unC8AIy--py3.12\\Lib\\site-packages\\gradio\\queueing.py\", line 745, in process_events\n",
      "    response = await route_utils.call_process_api(\n",
      "               ^^^^^^^^^^^^^^^^^^^^^^^^^^^^^^^^^^^\n",
      "  File \"c:\\Users\\hia\\AppData\\Local\\pypoetry\\Cache\\virtualenvs\\mylangchain-app-unC8AIy--py3.12\\Lib\\site-packages\\gradio\\route_utils.py\", line 353, in call_process_api\n",
      "    output = await app.get_blocks().process_api(\n",
      "             ^^^^^^^^^^^^^^^^^^^^^^^^^^^^^^^^^^^\n",
      "  File \"c:\\Users\\hia\\AppData\\Local\\pypoetry\\Cache\\virtualenvs\\mylangchain-app-unC8AIy--py3.12\\Lib\\site-packages\\gradio\\blocks.py\", line 2116, in process_api\n",
      "    result = await self.call_function(\n",
      "             ^^^^^^^^^^^^^^^^^^^^^^^^^\n",
      "  File \"c:\\Users\\hia\\AppData\\Local\\pypoetry\\Cache\\virtualenvs\\mylangchain-app-unC8AIy--py3.12\\Lib\\site-packages\\gradio\\blocks.py\", line 1623, in call_function\n",
      "    prediction = await anyio.to_thread.run_sync(  # type: ignore\n",
      "                 ^^^^^^^^^^^^^^^^^^^^^^^^^^^^^^^^^^^^^^^^^^^^^^^\n",
      "  File \"c:\\Users\\hia\\AppData\\Local\\pypoetry\\Cache\\virtualenvs\\mylangchain-app-unC8AIy--py3.12\\Lib\\site-packages\\anyio\\to_thread.py\", line 56, in run_sync\n",
      "    return await get_async_backend().run_sync_in_worker_thread(\n",
      "           ^^^^^^^^^^^^^^^^^^^^^^^^^^^^^^^^^^^^^^^^^^^^^^^^^^^^\n",
      "  File \"c:\\Users\\hia\\AppData\\Local\\pypoetry\\Cache\\virtualenvs\\mylangchain-app-unC8AIy--py3.12\\Lib\\site-packages\\anyio\\_backends\\_asyncio.py\", line 2476, in run_sync_in_worker_thread\n",
      "    return await future\n",
      "           ^^^^^^^^^^^^\n",
      "  File \"c:\\Users\\hia\\AppData\\Local\\pypoetry\\Cache\\virtualenvs\\mylangchain-app-unC8AIy--py3.12\\Lib\\site-packages\\anyio\\_backends\\_asyncio.py\", line 967, in run\n",
      "    result = context.run(func, *args)\n",
      "             ^^^^^^^^^^^^^^^^^^^^^^^^\n",
      "  File \"c:\\Users\\hia\\AppData\\Local\\pypoetry\\Cache\\virtualenvs\\mylangchain-app-unC8AIy--py3.12\\Lib\\site-packages\\gradio\\utils.py\", line 915, in wrapper\n",
      "    response = f(*args, **kwargs)\n",
      "               ^^^^^^^^^^^^^^^^^^\n",
      "  File \"C:\\Users\\hia\\AppData\\Local\\Temp\\ipykernel_20684\\3293635373.py\", line 8, in flip_image\n",
      "    return np.fliplr(x)\n",
      "           ^^^^^^^^^^^^\n",
      "  File \"c:\\Users\\hia\\AppData\\Local\\pypoetry\\Cache\\virtualenvs\\mylangchain-app-unC8AIy--py3.12\\Lib\\site-packages\\numpy\\lib\\_twodim_base_impl.py\", line 114, in fliplr\n",
      "    raise ValueError(\"Input must be >= 2-d.\")\n",
      "ValueError: Input must be >= 2-d.\n"
     ]
    }
   ],
   "source": [
    "if __name__ == '__main__':\n",
    "    main()"
   ]
  }
 ],
 "metadata": {
  "kernelspec": {
   "display_name": "mylangchain-app-unC8AIy--py3.12",
   "language": "python",
   "name": "python3"
  },
  "language_info": {
   "codemirror_mode": {
    "name": "ipython",
    "version": 3
   },
   "file_extension": ".py",
   "mimetype": "text/x-python",
   "name": "python",
   "nbconvert_exporter": "python",
   "pygments_lexer": "ipython3",
   "version": "3.12.7"
  }
 },
 "nbformat": 4,
 "nbformat_minor": 2
}
